{
 "cells": [
  {
   "cell_type": "code",
   "execution_count": 7,
   "id": "01996b94",
   "metadata": {},
   "outputs": [],
   "source": [
    "import re\n",
    "from collections import defaultdict\n",
    "import os\n",
    "import random"
   ]
  },
  {
   "cell_type": "code",
   "execution_count": 8,
   "id": "4773b50b",
   "metadata": {},
   "outputs": [],
   "source": [
    "raw_text = \"\"\n",
    "\n",
    "for txt in os.listdir(\"korpus\"):\n",
    "    with open(f\"korpus/{txt}\", \"r\", encoding=\"utf-8\") as f:\n",
    "        content = f.read()\n",
    "    \n",
    "    raw_text += content + \" \""
   ]
  },
  {
   "cell_type": "code",
   "execution_count": 9,
   "id": "a66612ef",
   "metadata": {},
   "outputs": [],
   "source": [
    "# Alle Interpunktionszeichen außer \\w \\s ; . ? ! entfernen\n",
    "text_no_p = re.sub(r\"[^\\w\\s;.?!]\", \"\", raw_text)\n",
    "# Leerzeichen vor jedem übrigen Punktionszeichen setzen\n",
    "text_no_p = re.sub(r\"([;.?!])\", r\" \\1\", text_no_p)\n",
    "\n",
    "# Satzgrenzen\n",
    "text_no_p_ends = re.sub(r\"([?!;.])\", r\"\\1 </s>|||<s> \", text_no_p)\n",
    "text_no_p_ends = \"<s> \" + text_no_p_ends + \" </s>\"\n",
    "\n",
    "text_no_p_ends = text_no_p_ends.lower()\n"
   ]
  },
  {
   "cell_type": "code",
   "execution_count": 10,
   "id": "8f195905",
   "metadata": {},
   "outputs": [],
   "source": [
    "text_no_p_ends_list = [s.split(\" \") for s in text_no_p_ends.split(\"|||\")]"
   ]
  },
  {
   "cell_type": "code",
   "execution_count": 11,
   "id": "0536782f",
   "metadata": {},
   "outputs": [],
   "source": [
    "num_vocab = defaultdict(int)\n",
    "\n",
    "for sentence in text_no_p_ends_list:\n",
    "    for s in sentence:\n",
    "        num_vocab[s] += 1\n",
    "\n",
    "num_vocab = list([val, key] for key, val in num_vocab.items())"
   ]
  },
  {
   "cell_type": "code",
   "execution_count": 12,
   "id": "e4f93649",
   "metadata": {},
   "outputs": [],
   "source": [
    "num_vocab = list(sorted(num_vocab, key=lambda x : x[0], reverse=True))"
   ]
  },
  {
   "cell_type": "code",
   "execution_count": 13,
   "id": "736fc19d",
   "metadata": {},
   "outputs": [],
   "source": [
    "for i, (num, word) in enumerate(num_vocab):\n",
    "    if num == 1:\n",
    "        begin = i\n",
    "        break"
   ]
  },
  {
   "cell_type": "code",
   "execution_count": 14,
   "id": "5f725621",
   "metadata": {},
   "outputs": [],
   "source": [
    "start_end_indexes = list(range(begin, len(num_vocab)))"
   ]
  },
  {
   "cell_type": "code",
   "execution_count": 15,
   "id": "93bc3d44",
   "metadata": {},
   "outputs": [],
   "source": [
    "choosen = []\n",
    "\n",
    "for _ in range(10):\n",
    "    rand_idx = random.choice(start_end_indexes)\n",
    "    choosen.append(rand_idx)\n",
    "    start_end_indexes.remove(rand_idx)"
   ]
  },
  {
   "cell_type": "code",
   "execution_count": 16,
   "id": "a9e0457c",
   "metadata": {},
   "outputs": [],
   "source": [
    "for i in choosen:\n",
    "    num_vocab[i][1] = \"<UNK>\""
   ]
  },
  {
   "cell_type": "code",
   "execution_count": 17,
   "id": "30d0f9d5",
   "metadata": {},
   "outputs": [],
   "source": [
    "import numpy as np"
   ]
  },
  {
   "cell_type": "code",
   "execution_count": 20,
   "id": "a974561a",
   "metadata": {},
   "outputs": [],
   "source": [
    "vocab_index = {w : idx for idx, (num, w) in enumerate(num_vocab)}"
   ]
  },
  {
   "cell_type": "code",
   "execution_count": 25,
   "id": "fc6d04cd",
   "metadata": {},
   "outputs": [],
   "source": [
    "# Training\n",
    "n = 2\n",
    "\n",
    "table = np.zeros([len(num_vocab)] * n, dtype=int)"
   ]
  },
  {
   "cell_type": "code",
   "execution_count": 27,
   "id": "acd86962",
   "metadata": {},
   "outputs": [
    {
     "ename": "KeyError",
     "evalue": "'brächte'",
     "output_type": "error",
     "traceback": [
      "\u001b[31m---------------------------------------------------------------------------\u001b[39m",
      "\u001b[31mKeyError\u001b[39m                                  Traceback (most recent call last)",
      "\u001b[36mCell\u001b[39m\u001b[36m \u001b[39m\u001b[32mIn[27]\u001b[39m\u001b[32m, line 6\u001b[39m\n\u001b[32m      4\u001b[39m indices = []\n\u001b[32m      5\u001b[39m \u001b[38;5;28;01mfor\u001b[39;00m j \u001b[38;5;129;01min\u001b[39;00m \u001b[38;5;28mrange\u001b[39m(n - \u001b[32m1\u001b[39m):\n\u001b[32m----> \u001b[39m\u001b[32m6\u001b[39m     indices.append(\u001b[43mvocab_index\u001b[49m\u001b[43m[\u001b[49m\u001b[43msentence\u001b[49m\u001b[43m[\u001b[49m\u001b[43midx\u001b[49m\u001b[43m \u001b[49m\u001b[43m-\u001b[49m\u001b[43m \u001b[49m\u001b[43mj\u001b[49m\u001b[43m]\u001b[49m\u001b[43m]\u001b[49m)\n\u001b[32m      8\u001b[39m     \u001b[38;5;28;01mif\u001b[39;00m \u001b[38;5;28mlen\u001b[39m(indices) == n:\n\u001b[32m      9\u001b[39m         table[\u001b[38;5;28mtuple\u001b[39m(indices)] += \u001b[32m1\u001b[39m\n",
      "\u001b[31mKeyError\u001b[39m: 'brächte'"
     ]
    }
   ],
   "source": [
    "for sentence in text_no_p_ends_list:\n",
    "    \n",
    "    for idx in range(n - 1, len(sentence)):\n",
    "        indices = []\n",
    "        for j in range(n - 1):\n",
    "            indices.append(vocab_index[sentence[idx - j]])\n",
    "            \n",
    "            if len(indices) == n:\n",
    "                table[tuple(indices)] += 1\n",
    "        "
   ]
  },
  {
   "cell_type": "code",
   "execution_count": null,
   "id": "a0ed511c",
   "metadata": {},
   "outputs": [],
   "source": []
  }
 ],
 "metadata": {
  "kernelspec": {
   "display_name": "venv",
   "language": "python",
   "name": "python3"
  },
  "language_info": {
   "codemirror_mode": {
    "name": "ipython",
    "version": 3
   },
   "file_extension": ".py",
   "mimetype": "text/x-python",
   "name": "python",
   "nbconvert_exporter": "python",
   "pygments_lexer": "ipython3",
   "version": "3.12.3"
  }
 },
 "nbformat": 4,
 "nbformat_minor": 5
}
