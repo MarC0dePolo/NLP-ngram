{
 "cells": [
  {
   "cell_type": "code",
   "execution_count": 28,
   "id": "01996b94",
   "metadata": {},
   "outputs": [],
   "source": [
    "import re\n",
    "from collections import defaultdict\n",
    "import os\n",
    "import random"
   ]
  },
  {
   "cell_type": "code",
   "execution_count": 29,
   "id": "4773b50b",
   "metadata": {},
   "outputs": [],
   "source": [
    "raw_text = \"\"\n",
    "\n",
    "for txt in os.listdir(\"korpus\"):\n",
    "    with open(f\"korpus/{txt}\", \"r\", encoding=\"utf-8\") as f:\n",
    "        content = f.read()\n",
    "    \n",
    "    raw_text += content + \" \""
   ]
  },
  {
   "cell_type": "code",
   "execution_count": 30,
   "id": "a66612ef",
   "metadata": {},
   "outputs": [],
   "source": [
    "# Alle Interpunktionszeichen außer \\w \\s ; . ? ! entfernen\n",
    "text_no_p = re.sub(r\"[^\\w\\s;.?!]\", \"\", raw_text)\n",
    "# Leerzeichen vor jedem übrigen Punktionszeichen setzen\n",
    "text_no_p = re.sub(r\"([;.?!])\", r\" \\1\", text_no_p)\n",
    "\n",
    "# Satzgrenzen\n",
    "text_no_p_ends = re.sub(r\"([?!;.])\", r\"\\1 </s>|||<s> \", text_no_p)\n",
    "text_no_p_ends = \"<s> \" + text_no_p_ends + \" </s>\"\n",
    "\n",
    "text_no_p_ends = text_no_p_ends.lower()\n"
   ]
  },
  {
   "cell_type": "code",
   "execution_count": 4,
   "id": "8f195905",
   "metadata": {},
   "outputs": [],
   "source": [
    "text_no_p_ends_list = text_no_p_ends.split(\"|||\")"
   ]
  },
  {
   "cell_type": "code",
   "execution_count": 76,
   "id": "272b63d1",
   "metadata": {},
   "outputs": [],
   "source": [
    "num_vocab = defaultdict(int)"
   ]
  },
  {
   "cell_type": "code",
   "execution_count": 77,
   "id": "0536782f",
   "metadata": {},
   "outputs": [],
   "source": [
    "for sentence in text_no_p_ends_list:\n",
    "    for s in sentence.split(\" \"):\n",
    "        num_vocab[s] += 1\n",
    "\n",
    "num_vocab = list([val, key] for key, val in num_vocab.items())"
   ]
  },
  {
   "cell_type": "code",
   "execution_count": 78,
   "id": "e4f93649",
   "metadata": {},
   "outputs": [],
   "source": [
    "num_vocab = list(sorted(num_vocab, key=lambda x : x[0], reverse=True))"
   ]
  },
  {
   "cell_type": "code",
   "execution_count": 79,
   "id": "736fc19d",
   "metadata": {},
   "outputs": [],
   "source": [
    "for i, (num, word) in enumerate(num_vocab):\n",
    "    if num == 1:\n",
    "        begin = i\n",
    "        break"
   ]
  },
  {
   "cell_type": "code",
   "execution_count": 80,
   "id": "5f725621",
   "metadata": {},
   "outputs": [],
   "source": [
    "start_end_indexes = list(range(begin, len(num_vocab)))"
   ]
  },
  {
   "cell_type": "code",
   "execution_count": 81,
   "id": "93bc3d44",
   "metadata": {},
   "outputs": [],
   "source": [
    "choosen = []\n",
    "\n",
    "for _ in range(10):\n",
    "    rand_idx = random.choice(start_end_indexes)\n",
    "    choosen.append(rand_idx)\n",
    "    start_end_indexes.remove(rand_idx)"
   ]
  },
  {
   "cell_type": "code",
   "execution_count": 82,
   "id": "a9e0457c",
   "metadata": {},
   "outputs": [],
   "source": [
    "for i in choosen:\n",
    "    num_vocab[i][1] = \"<UNK>\""
   ]
  },
  {
   "cell_type": "code",
   "execution_count": null,
   "id": "bf300c05",
   "metadata": {},
   "outputs": [],
   "source": []
  }
 ],
 "metadata": {
  "kernelspec": {
   "display_name": "venv",
   "language": "python",
   "name": "python3"
  },
  "language_info": {
   "codemirror_mode": {
    "name": "ipython",
    "version": 3
   },
   "file_extension": ".py",
   "mimetype": "text/x-python",
   "name": "python",
   "nbconvert_exporter": "python",
   "pygments_lexer": "ipython3",
   "version": "3.12.3"
  }
 },
 "nbformat": 4,
 "nbformat_minor": 5
}
